{
 "cells": [
  {
   "cell_type": "code",
   "execution_count": null,
   "id": "748cd969-f10a-4151-90f6-db316ba073db",
   "metadata": {},
   "outputs": [],
   "source": [
    "import pandas as pd\n",
    "import os\n",
    "import numpy as np\n",
    "import seaborn as sns"
   ]
  },
  {
   "cell_type": "code",
   "execution_count": null,
   "id": "b4d941b1",
   "metadata": {},
   "outputs": [],
   "source": [
    "#Reading csv file 1\n",
    "labels=pd.read_csv('secom_labels.data',header=None,sep=' ',names=['status','timestamp'])"
   ]
  },
  {
   "cell_type": "code",
   "execution_count": null,
   "id": "124bce11",
   "metadata": {},
   "outputs": [],
   "source": [
    "#Generate an empty list to put column names in\n",
    "column_list=[]"
   ]
  },
  {
   "cell_type": "code",
   "execution_count": null,
   "id": "a6ab00f8",
   "metadata": {},
   "outputs": [],
   "source": [
    "#Naming columns 0-590\n",
    "for x in range(591):\n",
    "    column_list.append(f'col_{x}')"
   ]
  },
  {
   "cell_type": "code",
   "execution_count": null,
   "id": "ac9f5ed6",
   "metadata": {},
   "outputs": [],
   "source": [
    "#Remove the first column name as it starts with 0\n",
    "column_list.remove('col_0')"
   ]
  },
  {
   "cell_type": "code",
   "execution_count": null,
   "id": "16a5ffda",
   "metadata": {},
   "outputs": [],
   "source": [
    "#Reading csv file 2\n",
    "data=pd.read_csv('secom.data',header=None,sep=' ',names=column_list)"
   ]
  },
  {
   "cell_type": "code",
   "execution_count": null,
   "id": "86774f48",
   "metadata": {},
   "outputs": [],
   "source": [
    "#Data file has 590 columns and 1567 rows\n",
    "print(data.shape)\n",
    "data.head()"
   ]
  },
  {
   "cell_type": "code",
   "execution_count": null,
   "id": "066923ef",
   "metadata": {},
   "outputs": [],
   "source": [
    "#Replace -1 with 0 in status column\n",
    "labels['status']=labels['status'].replace(-1,0)"
   ]
  },
  {
   "cell_type": "code",
   "execution_count": null,
   "id": "fcdd20b4",
   "metadata": {},
   "outputs": [],
   "source": []
  },
  {
   "cell_type": "code",
   "execution_count": null,
   "id": "6702081e",
   "metadata": {},
   "outputs": [],
   "source": []
  },
  {
   "cell_type": "code",
   "execution_count": null,
   "id": "b27fcd22",
   "metadata": {},
   "outputs": [],
   "source": []
  },
  {
   "cell_type": "code",
   "execution_count": null,
   "id": "fe48eb6b",
   "metadata": {},
   "outputs": [],
   "source": []
  },
  {
   "cell_type": "code",
   "execution_count": null,
   "id": "198d7d17",
   "metadata": {},
   "outputs": [],
   "source": []
  },
  {
   "cell_type": "code",
   "execution_count": null,
   "id": "5223e155",
   "metadata": {},
   "outputs": [],
   "source": []
  },
  {
   "cell_type": "code",
   "execution_count": null,
   "id": "09f7da68",
   "metadata": {},
   "outputs": [],
   "source": []
  },
  {
   "cell_type": "code",
   "execution_count": null,
   "id": "f64d9d5f",
   "metadata": {},
   "outputs": [],
   "source": []
  }
 ],
 "metadata": {
  "kernelspec": {
   "display_name": "Python 3 (ipykernel)",
   "language": "python",
   "name": "python3"
  },
  "language_info": {
   "codemirror_mode": {
    "name": "ipython",
    "version": 3
   },
   "file_extension": ".py",
   "mimetype": "text/x-python",
   "name": "python",
   "nbconvert_exporter": "python",
   "pygments_lexer": "ipython3",
   "version": "3.12.7"
  }
 },
 "nbformat": 4,
 "nbformat_minor": 5
}
