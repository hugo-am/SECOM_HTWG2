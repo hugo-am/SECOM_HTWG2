{
 "cells": [
  {
   "cell_type": "code",
   "execution_count": null,
   "id": "f4631ff0",
   "metadata": {},
   "outputs": [],
   "source": [
    "#Testing new file push"
   ]
  }
 ],
 "metadata": {
  "language_info": {
   "name": "python"
  }
 },
 "nbformat": 4,
 "nbformat_minor": 5
}
